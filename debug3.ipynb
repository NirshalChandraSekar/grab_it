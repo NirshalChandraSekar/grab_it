{
 "cells": [
  {
   "cell_type": "code",
   "execution_count": 1,
   "metadata": {},
   "outputs": [
    {
     "name": "stderr",
     "output_type": "stream",
     "text": [
      "/home/nirshal/miniconda3/envs/primary/lib/python3.10/site-packages/torchvision/io/image.py:13: UserWarning: Failed to load image Python extension: '/home/nirshal/miniconda3/envs/primary/lib/python3.10/site-packages/torchvision/image.so: undefined symbol: _ZN3c1017RegisterOperatorsD1Ev'If you don't plan on using image functionality from `torchvision.io`, you can ignore this warning. Otherwise, there might be something wrong with your environment. Did you have `libjpeg` or `libpng` installed before building `torchvision` from source?\n",
      "  warn(\n"
     ]
    }
   ],
   "source": [
    "import cv2\n",
    "import numpy as np\n",
    "import matplotlib.pyplot as plt\n",
    "from dino_functions import Dinov2"
   ]
  },
  {
   "cell_type": "code",
   "execution_count": 29,
   "metadata": {},
   "outputs": [],
   "source": [
    "grasp_path = \"resources/pouch3/grasp_pose_pouch3.npy\"\n",
    "gt_grasp_path = \"resources/pouch3/gt_grasp_pose_pouch3.npy\"\n",
    "\n",
    "matrix = np.load(grasp_path, allow_pickle=True).item()\n",
    "\n",
    "matrix[0][0:3,0] = -matrix[0][0:3,0]\n",
    "matrix[0][0:3,2] = -matrix[0][0:3,2]\n",
    "\n",
    "np.save(grasp_path, matrix)"
   ]
  },
  {
   "cell_type": "code",
   "execution_count": 30,
   "metadata": {},
   "outputs": [
    {
     "name": "stdout",
     "output_type": "stream",
     "text": [
      "Center Error:  {0: 0.016436363856055725}\n",
      "Approach Axis Error:  {0: 5.888322534993989}\n"
     ]
    }
   ],
   "source": [
    "gt_grasp_axes = np.load(grasp_path, allow_pickle=True).item()\n",
    "grasp_axes = np.load(gt_grasp_path, allow_pickle=True).item()\n",
    "\n",
    "center_error = {}\n",
    "for key in gt_grasp_axes:\n",
    "    center_gt = gt_grasp_axes[key][0:3,3]\n",
    "    center_pred = grasp_axes[key][0:3,3]\n",
    "    center_error[key] = np.linalg.norm(center_gt - center_pred)\n",
    "\n",
    "# Error Between the x axis\n",
    "approach_axis_error = {}\n",
    "for key in gt_grasp_axes:\n",
    "    gt_x = gt_grasp_axes[key][0:3,0]\n",
    "    pred_x = grasp_axes[key][0:3,0]\n",
    "    # approach_axis_error[key] = np.arccos(np.dot(gt_x, pred_x)/(np.linalg.norm(gt_x)*np.linalg.norm(pred_x)))\n",
    "    approach_axis_error[key] = np.arccos(np.dot(gt_x, pred_x))\n",
    "    # convert to degrees\n",
    "    approach_axis_error[key] = np.degrees(approach_axis_error[key])\n",
    "\n",
    "print(\"Center Error: \", center_error)\n",
    "print(\"Approach Axis Error: \", approach_axis_error)"
   ]
  },
  {
   "cell_type": "code",
   "execution_count": 1,
   "metadata": {},
   "outputs": [
    {
     "name": "stdout",
     "output_type": "stream",
     "text": [
      "Jupyter environment detected. Enabling Open3D WebVisualizer.\n",
      "[Open3D INFO] WebRTC GUI backend enabled.\n",
      "[Open3D INFO] WebRTCWindowSystem: HTTP handshake server disabled.\n"
     ]
    },
    {
     "ename": "",
     "evalue": "",
     "output_type": "error",
     "traceback": [
      "\u001b[1;31mThe Kernel crashed while executing code in the current cell or a previous cell. \n",
      "\u001b[1;31mPlease review the code in the cell(s) to identify a possible cause of the failure. \n",
      "\u001b[1;31mClick <a href='https://aka.ms/vscodeJupyterKernelCrash'>here</a> for more info. \n",
      "\u001b[1;31mView Jupyter <a href='command:jupyter.viewOutput'>log</a> for further details."
     ]
    }
   ],
   "source": [
    "import open3d as o3d\n",
    "# draw a sphere\n",
    "mesh_sphere = o3d.geometry.TriangleMesh.create_sphere(radius=0.01)\n",
    "mesh_sphere.compute_vertex_normals()\n",
    "mesh_sphere.paint_uniform_color([0.1, 0.1, 0.7])\n",
    "# vizualize the sphere\n",
    "vis = o3d.visualization.Visualizer()\n",
    "vis.create_window()\n",
    "vis.add_geometry(mesh_sphere)\n",
    "vis.run()\n",
    "vis.destroy_window()"
   ]
  }
 ],
 "metadata": {
  "kernelspec": {
   "display_name": "pickup",
   "language": "python",
   "name": "python3"
  },
  "language_info": {
   "codemirror_mode": {
    "name": "ipython",
    "version": 3
   },
   "file_extension": ".py",
   "mimetype": "text/x-python",
   "name": "python",
   "nbconvert_exporter": "python",
   "pygments_lexer": "ipython3",
   "version": "3.10.16"
  }
 },
 "nbformat": 4,
 "nbformat_minor": 2
}
